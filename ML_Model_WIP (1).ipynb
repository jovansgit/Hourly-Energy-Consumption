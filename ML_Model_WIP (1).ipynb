{
  "nbformat": 4,
  "nbformat_minor": 0,
  "metadata": {
    "colab": {
      "provenance": [],
      "collapsed_sections": []
    },
    "kernelspec": {
      "name": "python3",
      "display_name": "Python 3"
    },
    "language_info": {
      "name": "python"
    }
  },
  "cells": [
    {
      "cell_type": "code",
      "execution_count": 1,
      "metadata": {
        "id": "yR0oFVkH08-G"
      },
      "outputs": [],
      "source": [
        "import numpy as np \n",
        "import pandas as pd\n",
        "import matplotlib\n",
        "import matplotlib.pyplot as plt\n",
        "import seaborn as sns\n",
        "\n",
        "comed_df = pd.read_csv('COMED_hourly.csv', index_col=[\"Datetime\"], parse_dates=[\"Datetime\"])\n",
        "# Sort Data\n",
        "comed_df.sort_index(inplace=True)"
      ]
    },
    {
      "cell_type": "code",
      "source": [
        "comed_df"
      ],
      "metadata": {
        "colab": {
          "base_uri": "https://localhost:8080/",
          "height": 455
        },
        "id": "ZK1jX3i38SDO",
        "outputId": "2a7523e0-9e50-44ed-f5c1-47cca329d517"
      },
      "execution_count": 61,
      "outputs": [
        {
          "output_type": "execute_result",
          "data": {
            "text/plain": [
              "                     COMED_MW\n",
              "Datetime                     \n",
              "2011-01-01 01:00:00    9631.0\n",
              "2011-01-01 02:00:00    9273.0\n",
              "2011-01-01 03:00:00    9011.0\n",
              "2011-01-01 04:00:00    8741.0\n",
              "2011-01-01 05:00:00    8694.0\n",
              "...                       ...\n",
              "2018-08-02 20:00:00   16437.0\n",
              "2018-08-02 21:00:00   15590.0\n",
              "2018-08-02 22:00:00   15086.0\n",
              "2018-08-02 23:00:00   14448.0\n",
              "2018-08-03 00:00:00   13335.0\n",
              "\n",
              "[66497 rows x 1 columns]"
            ],
            "text/html": [
              "\n",
              "  <div id=\"df-e2316541-3ed1-4fd3-84c6-8cadf5f9a535\">\n",
              "    <div class=\"colab-df-container\">\n",
              "      <div>\n",
              "<style scoped>\n",
              "    .dataframe tbody tr th:only-of-type {\n",
              "        vertical-align: middle;\n",
              "    }\n",
              "\n",
              "    .dataframe tbody tr th {\n",
              "        vertical-align: top;\n",
              "    }\n",
              "\n",
              "    .dataframe thead th {\n",
              "        text-align: right;\n",
              "    }\n",
              "</style>\n",
              "<table border=\"1\" class=\"dataframe\">\n",
              "  <thead>\n",
              "    <tr style=\"text-align: right;\">\n",
              "      <th></th>\n",
              "      <th>COMED_MW</th>\n",
              "    </tr>\n",
              "    <tr>\n",
              "      <th>Datetime</th>\n",
              "      <th></th>\n",
              "    </tr>\n",
              "  </thead>\n",
              "  <tbody>\n",
              "    <tr>\n",
              "      <th>2011-01-01 01:00:00</th>\n",
              "      <td>9631.0</td>\n",
              "    </tr>\n",
              "    <tr>\n",
              "      <th>2011-01-01 02:00:00</th>\n",
              "      <td>9273.0</td>\n",
              "    </tr>\n",
              "    <tr>\n",
              "      <th>2011-01-01 03:00:00</th>\n",
              "      <td>9011.0</td>\n",
              "    </tr>\n",
              "    <tr>\n",
              "      <th>2011-01-01 04:00:00</th>\n",
              "      <td>8741.0</td>\n",
              "    </tr>\n",
              "    <tr>\n",
              "      <th>2011-01-01 05:00:00</th>\n",
              "      <td>8694.0</td>\n",
              "    </tr>\n",
              "    <tr>\n",
              "      <th>...</th>\n",
              "      <td>...</td>\n",
              "    </tr>\n",
              "    <tr>\n",
              "      <th>2018-08-02 20:00:00</th>\n",
              "      <td>16437.0</td>\n",
              "    </tr>\n",
              "    <tr>\n",
              "      <th>2018-08-02 21:00:00</th>\n",
              "      <td>15590.0</td>\n",
              "    </tr>\n",
              "    <tr>\n",
              "      <th>2018-08-02 22:00:00</th>\n",
              "      <td>15086.0</td>\n",
              "    </tr>\n",
              "    <tr>\n",
              "      <th>2018-08-02 23:00:00</th>\n",
              "      <td>14448.0</td>\n",
              "    </tr>\n",
              "    <tr>\n",
              "      <th>2018-08-03 00:00:00</th>\n",
              "      <td>13335.0</td>\n",
              "    </tr>\n",
              "  </tbody>\n",
              "</table>\n",
              "<p>66497 rows × 1 columns</p>\n",
              "</div>\n",
              "      <button class=\"colab-df-convert\" onclick=\"convertToInteractive('df-e2316541-3ed1-4fd3-84c6-8cadf5f9a535')\"\n",
              "              title=\"Convert this dataframe to an interactive table.\"\n",
              "              style=\"display:none;\">\n",
              "        \n",
              "  <svg xmlns=\"http://www.w3.org/2000/svg\" height=\"24px\"viewBox=\"0 0 24 24\"\n",
              "       width=\"24px\">\n",
              "    <path d=\"M0 0h24v24H0V0z\" fill=\"none\"/>\n",
              "    <path d=\"M18.56 5.44l.94 2.06.94-2.06 2.06-.94-2.06-.94-.94-2.06-.94 2.06-2.06.94zm-11 1L8.5 8.5l.94-2.06 2.06-.94-2.06-.94L8.5 2.5l-.94 2.06-2.06.94zm10 10l.94 2.06.94-2.06 2.06-.94-2.06-.94-.94-2.06-.94 2.06-2.06.94z\"/><path d=\"M17.41 7.96l-1.37-1.37c-.4-.4-.92-.59-1.43-.59-.52 0-1.04.2-1.43.59L10.3 9.45l-7.72 7.72c-.78.78-.78 2.05 0 2.83L4 21.41c.39.39.9.59 1.41.59.51 0 1.02-.2 1.41-.59l7.78-7.78 2.81-2.81c.8-.78.8-2.07 0-2.86zM5.41 20L4 18.59l7.72-7.72 1.47 1.35L5.41 20z\"/>\n",
              "  </svg>\n",
              "      </button>\n",
              "      \n",
              "  <style>\n",
              "    .colab-df-container {\n",
              "      display:flex;\n",
              "      flex-wrap:wrap;\n",
              "      gap: 12px;\n",
              "    }\n",
              "\n",
              "    .colab-df-convert {\n",
              "      background-color: #E8F0FE;\n",
              "      border: none;\n",
              "      border-radius: 50%;\n",
              "      cursor: pointer;\n",
              "      display: none;\n",
              "      fill: #1967D2;\n",
              "      height: 32px;\n",
              "      padding: 0 0 0 0;\n",
              "      width: 32px;\n",
              "    }\n",
              "\n",
              "    .colab-df-convert:hover {\n",
              "      background-color: #E2EBFA;\n",
              "      box-shadow: 0px 1px 2px rgba(60, 64, 67, 0.3), 0px 1px 3px 1px rgba(60, 64, 67, 0.15);\n",
              "      fill: #174EA6;\n",
              "    }\n",
              "\n",
              "    [theme=dark] .colab-df-convert {\n",
              "      background-color: #3B4455;\n",
              "      fill: #D2E3FC;\n",
              "    }\n",
              "\n",
              "    [theme=dark] .colab-df-convert:hover {\n",
              "      background-color: #434B5C;\n",
              "      box-shadow: 0px 1px 3px 1px rgba(0, 0, 0, 0.15);\n",
              "      filter: drop-shadow(0px 1px 2px rgba(0, 0, 0, 0.3));\n",
              "      fill: #FFFFFF;\n",
              "    }\n",
              "  </style>\n",
              "\n",
              "      <script>\n",
              "        const buttonEl =\n",
              "          document.querySelector('#df-e2316541-3ed1-4fd3-84c6-8cadf5f9a535 button.colab-df-convert');\n",
              "        buttonEl.style.display =\n",
              "          google.colab.kernel.accessAllowed ? 'block' : 'none';\n",
              "\n",
              "        async function convertToInteractive(key) {\n",
              "          const element = document.querySelector('#df-e2316541-3ed1-4fd3-84c6-8cadf5f9a535');\n",
              "          const dataTable =\n",
              "            await google.colab.kernel.invokeFunction('convertToInteractive',\n",
              "                                                     [key], {});\n",
              "          if (!dataTable) return;\n",
              "\n",
              "          const docLinkHtml = 'Like what you see? Visit the ' +\n",
              "            '<a target=\"_blank\" href=https://colab.research.google.com/notebooks/data_table.ipynb>data table notebook</a>'\n",
              "            + ' to learn more about interactive tables.';\n",
              "          element.innerHTML = '';\n",
              "          dataTable['output_type'] = 'display_data';\n",
              "          await google.colab.output.renderOutput(dataTable, element);\n",
              "          const docLink = document.createElement('div');\n",
              "          docLink.innerHTML = docLinkHtml;\n",
              "          element.appendChild(docLink);\n",
              "        }\n",
              "      </script>\n",
              "    </div>\n",
              "  </div>\n",
              "  "
            ]
          },
          "metadata": {},
          "execution_count": 61
        }
      ]
    },
    {
      "cell_type": "markdown",
      "source": [
        "# Preprocessing Data for Model"
      ],
      "metadata": {
        "id": "8ORLW1dnMcwF"
      }
    },
    {
      "cell_type": "code",
      "source": [
        "# Looking for Duplicates \n",
        "\n",
        "comed_df[comed_df.index.duplicated(keep=False)]\n",
        "\n"
      ],
      "metadata": {
        "colab": {
          "base_uri": "https://localhost:8080/",
          "height": 332
        },
        "id": "uHAuJg9y8gr4",
        "outputId": "e9185d29-d8dc-4541-99bd-74ff41cd3991"
      },
      "execution_count": 2,
      "outputs": [
        {
          "output_type": "execute_result",
          "data": {
            "text/plain": [
              "                     COMED_MW\n",
              "Datetime                     \n",
              "2014-11-02 02:00:00    9184.0\n",
              "2014-11-02 02:00:00    8869.0\n",
              "2015-11-01 02:00:00    8270.0\n",
              "2015-11-01 02:00:00    7923.0\n",
              "2016-11-06 02:00:00    8028.0\n",
              "2016-11-06 02:00:00    7814.0\n",
              "2017-11-05 02:00:00    8198.0\n",
              "2017-11-05 02:00:00    7878.0"
            ],
            "text/html": [
              "\n",
              "  <div id=\"df-1eb9eec2-cce9-4c32-9fa8-ecfff50ec5c8\">\n",
              "    <div class=\"colab-df-container\">\n",
              "      <div>\n",
              "<style scoped>\n",
              "    .dataframe tbody tr th:only-of-type {\n",
              "        vertical-align: middle;\n",
              "    }\n",
              "\n",
              "    .dataframe tbody tr th {\n",
              "        vertical-align: top;\n",
              "    }\n",
              "\n",
              "    .dataframe thead th {\n",
              "        text-align: right;\n",
              "    }\n",
              "</style>\n",
              "<table border=\"1\" class=\"dataframe\">\n",
              "  <thead>\n",
              "    <tr style=\"text-align: right;\">\n",
              "      <th></th>\n",
              "      <th>COMED_MW</th>\n",
              "    </tr>\n",
              "    <tr>\n",
              "      <th>Datetime</th>\n",
              "      <th></th>\n",
              "    </tr>\n",
              "  </thead>\n",
              "  <tbody>\n",
              "    <tr>\n",
              "      <th>2014-11-02 02:00:00</th>\n",
              "      <td>9184.0</td>\n",
              "    </tr>\n",
              "    <tr>\n",
              "      <th>2014-11-02 02:00:00</th>\n",
              "      <td>8869.0</td>\n",
              "    </tr>\n",
              "    <tr>\n",
              "      <th>2015-11-01 02:00:00</th>\n",
              "      <td>8270.0</td>\n",
              "    </tr>\n",
              "    <tr>\n",
              "      <th>2015-11-01 02:00:00</th>\n",
              "      <td>7923.0</td>\n",
              "    </tr>\n",
              "    <tr>\n",
              "      <th>2016-11-06 02:00:00</th>\n",
              "      <td>8028.0</td>\n",
              "    </tr>\n",
              "    <tr>\n",
              "      <th>2016-11-06 02:00:00</th>\n",
              "      <td>7814.0</td>\n",
              "    </tr>\n",
              "    <tr>\n",
              "      <th>2017-11-05 02:00:00</th>\n",
              "      <td>8198.0</td>\n",
              "    </tr>\n",
              "    <tr>\n",
              "      <th>2017-11-05 02:00:00</th>\n",
              "      <td>7878.0</td>\n",
              "    </tr>\n",
              "  </tbody>\n",
              "</table>\n",
              "</div>\n",
              "      <button class=\"colab-df-convert\" onclick=\"convertToInteractive('df-1eb9eec2-cce9-4c32-9fa8-ecfff50ec5c8')\"\n",
              "              title=\"Convert this dataframe to an interactive table.\"\n",
              "              style=\"display:none;\">\n",
              "        \n",
              "  <svg xmlns=\"http://www.w3.org/2000/svg\" height=\"24px\"viewBox=\"0 0 24 24\"\n",
              "       width=\"24px\">\n",
              "    <path d=\"M0 0h24v24H0V0z\" fill=\"none\"/>\n",
              "    <path d=\"M18.56 5.44l.94 2.06.94-2.06 2.06-.94-2.06-.94-.94-2.06-.94 2.06-2.06.94zm-11 1L8.5 8.5l.94-2.06 2.06-.94-2.06-.94L8.5 2.5l-.94 2.06-2.06.94zm10 10l.94 2.06.94-2.06 2.06-.94-2.06-.94-.94-2.06-.94 2.06-2.06.94z\"/><path d=\"M17.41 7.96l-1.37-1.37c-.4-.4-.92-.59-1.43-.59-.52 0-1.04.2-1.43.59L10.3 9.45l-7.72 7.72c-.78.78-.78 2.05 0 2.83L4 21.41c.39.39.9.59 1.41.59.51 0 1.02-.2 1.41-.59l7.78-7.78 2.81-2.81c.8-.78.8-2.07 0-2.86zM5.41 20L4 18.59l7.72-7.72 1.47 1.35L5.41 20z\"/>\n",
              "  </svg>\n",
              "      </button>\n",
              "      \n",
              "  <style>\n",
              "    .colab-df-container {\n",
              "      display:flex;\n",
              "      flex-wrap:wrap;\n",
              "      gap: 12px;\n",
              "    }\n",
              "\n",
              "    .colab-df-convert {\n",
              "      background-color: #E8F0FE;\n",
              "      border: none;\n",
              "      border-radius: 50%;\n",
              "      cursor: pointer;\n",
              "      display: none;\n",
              "      fill: #1967D2;\n",
              "      height: 32px;\n",
              "      padding: 0 0 0 0;\n",
              "      width: 32px;\n",
              "    }\n",
              "\n",
              "    .colab-df-convert:hover {\n",
              "      background-color: #E2EBFA;\n",
              "      box-shadow: 0px 1px 2px rgba(60, 64, 67, 0.3), 0px 1px 3px 1px rgba(60, 64, 67, 0.15);\n",
              "      fill: #174EA6;\n",
              "    }\n",
              "\n",
              "    [theme=dark] .colab-df-convert {\n",
              "      background-color: #3B4455;\n",
              "      fill: #D2E3FC;\n",
              "    }\n",
              "\n",
              "    [theme=dark] .colab-df-convert:hover {\n",
              "      background-color: #434B5C;\n",
              "      box-shadow: 0px 1px 3px 1px rgba(0, 0, 0, 0.15);\n",
              "      filter: drop-shadow(0px 1px 2px rgba(0, 0, 0, 0.3));\n",
              "      fill: #FFFFFF;\n",
              "    }\n",
              "  </style>\n",
              "\n",
              "      <script>\n",
              "        const buttonEl =\n",
              "          document.querySelector('#df-1eb9eec2-cce9-4c32-9fa8-ecfff50ec5c8 button.colab-df-convert');\n",
              "        buttonEl.style.display =\n",
              "          google.colab.kernel.accessAllowed ? 'block' : 'none';\n",
              "\n",
              "        async function convertToInteractive(key) {\n",
              "          const element = document.querySelector('#df-1eb9eec2-cce9-4c32-9fa8-ecfff50ec5c8');\n",
              "          const dataTable =\n",
              "            await google.colab.kernel.invokeFunction('convertToInteractive',\n",
              "                                                     [key], {});\n",
              "          if (!dataTable) return;\n",
              "\n",
              "          const docLinkHtml = 'Like what you see? Visit the ' +\n",
              "            '<a target=\"_blank\" href=https://colab.research.google.com/notebooks/data_table.ipynb>data table notebook</a>'\n",
              "            + ' to learn more about interactive tables.';\n",
              "          element.innerHTML = '';\n",
              "          dataTable['output_type'] = 'display_data';\n",
              "          await google.colab.output.renderOutput(dataTable, element);\n",
              "          const docLink = document.createElement('div');\n",
              "          docLink.innerHTML = docLinkHtml;\n",
              "          element.appendChild(docLink);\n",
              "        }\n",
              "      </script>\n",
              "    </div>\n",
              "  </div>\n",
              "  "
            ]
          },
          "metadata": {},
          "execution_count": 2
        }
      ]
    },
    {
      "cell_type": "code",
      "source": [
        "# Make Duplicates into mean \n",
        "comed_df = comed_df.groupby('Datetime').agg(np.mean)\n",
        "comed_df"
      ],
      "metadata": {
        "colab": {
          "base_uri": "https://localhost:8080/",
          "height": 455
        },
        "id": "-S1XKaq_A17u",
        "outputId": "310591db-c0bc-4bce-f2e7-391128b068d7"
      },
      "execution_count": 3,
      "outputs": [
        {
          "output_type": "execute_result",
          "data": {
            "text/plain": [
              "                     COMED_MW\n",
              "Datetime                     \n",
              "2011-01-01 01:00:00    9631.0\n",
              "2011-01-01 02:00:00    9273.0\n",
              "2011-01-01 03:00:00    9011.0\n",
              "2011-01-01 04:00:00    8741.0\n",
              "2011-01-01 05:00:00    8694.0\n",
              "...                       ...\n",
              "2018-08-02 20:00:00   16437.0\n",
              "2018-08-02 21:00:00   15590.0\n",
              "2018-08-02 22:00:00   15086.0\n",
              "2018-08-02 23:00:00   14448.0\n",
              "2018-08-03 00:00:00   13335.0\n",
              "\n",
              "[66493 rows x 1 columns]"
            ],
            "text/html": [
              "\n",
              "  <div id=\"df-a283e690-8f73-47e8-b8f2-a14b0780007d\">\n",
              "    <div class=\"colab-df-container\">\n",
              "      <div>\n",
              "<style scoped>\n",
              "    .dataframe tbody tr th:only-of-type {\n",
              "        vertical-align: middle;\n",
              "    }\n",
              "\n",
              "    .dataframe tbody tr th {\n",
              "        vertical-align: top;\n",
              "    }\n",
              "\n",
              "    .dataframe thead th {\n",
              "        text-align: right;\n",
              "    }\n",
              "</style>\n",
              "<table border=\"1\" class=\"dataframe\">\n",
              "  <thead>\n",
              "    <tr style=\"text-align: right;\">\n",
              "      <th></th>\n",
              "      <th>COMED_MW</th>\n",
              "    </tr>\n",
              "    <tr>\n",
              "      <th>Datetime</th>\n",
              "      <th></th>\n",
              "    </tr>\n",
              "  </thead>\n",
              "  <tbody>\n",
              "    <tr>\n",
              "      <th>2011-01-01 01:00:00</th>\n",
              "      <td>9631.0</td>\n",
              "    </tr>\n",
              "    <tr>\n",
              "      <th>2011-01-01 02:00:00</th>\n",
              "      <td>9273.0</td>\n",
              "    </tr>\n",
              "    <tr>\n",
              "      <th>2011-01-01 03:00:00</th>\n",
              "      <td>9011.0</td>\n",
              "    </tr>\n",
              "    <tr>\n",
              "      <th>2011-01-01 04:00:00</th>\n",
              "      <td>8741.0</td>\n",
              "    </tr>\n",
              "    <tr>\n",
              "      <th>2011-01-01 05:00:00</th>\n",
              "      <td>8694.0</td>\n",
              "    </tr>\n",
              "    <tr>\n",
              "      <th>...</th>\n",
              "      <td>...</td>\n",
              "    </tr>\n",
              "    <tr>\n",
              "      <th>2018-08-02 20:00:00</th>\n",
              "      <td>16437.0</td>\n",
              "    </tr>\n",
              "    <tr>\n",
              "      <th>2018-08-02 21:00:00</th>\n",
              "      <td>15590.0</td>\n",
              "    </tr>\n",
              "    <tr>\n",
              "      <th>2018-08-02 22:00:00</th>\n",
              "      <td>15086.0</td>\n",
              "    </tr>\n",
              "    <tr>\n",
              "      <th>2018-08-02 23:00:00</th>\n",
              "      <td>14448.0</td>\n",
              "    </tr>\n",
              "    <tr>\n",
              "      <th>2018-08-03 00:00:00</th>\n",
              "      <td>13335.0</td>\n",
              "    </tr>\n",
              "  </tbody>\n",
              "</table>\n",
              "<p>66493 rows × 1 columns</p>\n",
              "</div>\n",
              "      <button class=\"colab-df-convert\" onclick=\"convertToInteractive('df-a283e690-8f73-47e8-b8f2-a14b0780007d')\"\n",
              "              title=\"Convert this dataframe to an interactive table.\"\n",
              "              style=\"display:none;\">\n",
              "        \n",
              "  <svg xmlns=\"http://www.w3.org/2000/svg\" height=\"24px\"viewBox=\"0 0 24 24\"\n",
              "       width=\"24px\">\n",
              "    <path d=\"M0 0h24v24H0V0z\" fill=\"none\"/>\n",
              "    <path d=\"M18.56 5.44l.94 2.06.94-2.06 2.06-.94-2.06-.94-.94-2.06-.94 2.06-2.06.94zm-11 1L8.5 8.5l.94-2.06 2.06-.94-2.06-.94L8.5 2.5l-.94 2.06-2.06.94zm10 10l.94 2.06.94-2.06 2.06-.94-2.06-.94-.94-2.06-.94 2.06-2.06.94z\"/><path d=\"M17.41 7.96l-1.37-1.37c-.4-.4-.92-.59-1.43-.59-.52 0-1.04.2-1.43.59L10.3 9.45l-7.72 7.72c-.78.78-.78 2.05 0 2.83L4 21.41c.39.39.9.59 1.41.59.51 0 1.02-.2 1.41-.59l7.78-7.78 2.81-2.81c.8-.78.8-2.07 0-2.86zM5.41 20L4 18.59l7.72-7.72 1.47 1.35L5.41 20z\"/>\n",
              "  </svg>\n",
              "      </button>\n",
              "      \n",
              "  <style>\n",
              "    .colab-df-container {\n",
              "      display:flex;\n",
              "      flex-wrap:wrap;\n",
              "      gap: 12px;\n",
              "    }\n",
              "\n",
              "    .colab-df-convert {\n",
              "      background-color: #E8F0FE;\n",
              "      border: none;\n",
              "      border-radius: 50%;\n",
              "      cursor: pointer;\n",
              "      display: none;\n",
              "      fill: #1967D2;\n",
              "      height: 32px;\n",
              "      padding: 0 0 0 0;\n",
              "      width: 32px;\n",
              "    }\n",
              "\n",
              "    .colab-df-convert:hover {\n",
              "      background-color: #E2EBFA;\n",
              "      box-shadow: 0px 1px 2px rgba(60, 64, 67, 0.3), 0px 1px 3px 1px rgba(60, 64, 67, 0.15);\n",
              "      fill: #174EA6;\n",
              "    }\n",
              "\n",
              "    [theme=dark] .colab-df-convert {\n",
              "      background-color: #3B4455;\n",
              "      fill: #D2E3FC;\n",
              "    }\n",
              "\n",
              "    [theme=dark] .colab-df-convert:hover {\n",
              "      background-color: #434B5C;\n",
              "      box-shadow: 0px 1px 3px 1px rgba(0, 0, 0, 0.15);\n",
              "      filter: drop-shadow(0px 1px 2px rgba(0, 0, 0, 0.3));\n",
              "      fill: #FFFFFF;\n",
              "    }\n",
              "  </style>\n",
              "\n",
              "      <script>\n",
              "        const buttonEl =\n",
              "          document.querySelector('#df-a283e690-8f73-47e8-b8f2-a14b0780007d button.colab-df-convert');\n",
              "        buttonEl.style.display =\n",
              "          google.colab.kernel.accessAllowed ? 'block' : 'none';\n",
              "\n",
              "        async function convertToInteractive(key) {\n",
              "          const element = document.querySelector('#df-a283e690-8f73-47e8-b8f2-a14b0780007d');\n",
              "          const dataTable =\n",
              "            await google.colab.kernel.invokeFunction('convertToInteractive',\n",
              "                                                     [key], {});\n",
              "          if (!dataTable) return;\n",
              "\n",
              "          const docLinkHtml = 'Like what you see? Visit the ' +\n",
              "            '<a target=\"_blank\" href=https://colab.research.google.com/notebooks/data_table.ipynb>data table notebook</a>'\n",
              "            + ' to learn more about interactive tables.';\n",
              "          element.innerHTML = '';\n",
              "          dataTable['output_type'] = 'display_data';\n",
              "          await google.colab.output.renderOutput(dataTable, element);\n",
              "          const docLink = document.createElement('div');\n",
              "          docLink.innerHTML = docLinkHtml;\n",
              "          element.appendChild(docLink);\n",
              "        }\n",
              "      </script>\n",
              "    </div>\n",
              "  </div>\n",
              "  "
            ]
          },
          "metadata": {},
          "execution_count": 3
        }
      ]
    },
    {
      "cell_type": "code",
      "source": [
        "# Set DatetimeIndex Frequency due to duplicates datatimes\n",
        "comed_df = comed_df.asfreq('H')"
      ],
      "metadata": {
        "id": "waKNFlKABC-2"
      },
      "execution_count": 4,
      "outputs": []
    },
    {
      "cell_type": "code",
      "source": [
        "#Check for null values \n",
        "comed_df.COMED_MW.isna().sum()"
      ],
      "metadata": {
        "colab": {
          "base_uri": "https://localhost:8080/"
        },
        "id": "Gghc3m3aCqn0",
        "outputId": "b59a58dc-bff0-47a0-bc46-13a510459201"
      },
      "execution_count": 5,
      "outputs": [
        {
          "output_type": "execute_result",
          "data": {
            "text/plain": [
              "11"
            ]
          },
          "metadata": {},
          "execution_count": 5
        }
      ]
    },
    {
      "cell_type": "code",
      "source": [
        "# impute values for missing Comed_mw\n",
        "\n",
        "comed_df['COMED_MW'] = comed_df['COMED_MW'].interpolate(limit_area='inside', limit=None)\n"
      ],
      "metadata": {
        "id": "UNAcJRBMEmXh"
      },
      "execution_count": 6,
      "outputs": []
    },
    {
      "cell_type": "code",
      "source": [
        "# Test for stationarity \n",
        "\n",
        "from statsmodels.tsa.stattools import adfuller\n",
        "adf_result = adfuller(comed_df['COMED_MW'])\n",
        "print(f'ADF Statistic: {adf_result[0]}')\n",
        "print(f'p-value: {adf_result[1]}')\n",
        "print(f'number of Lags: {adf_result[2]}')\n",
        "print(f'Number of Obs: {adf_result[3]}')\n"
      ],
      "metadata": {
        "colab": {
          "base_uri": "https://localhost:8080/"
        },
        "id": "dqQkZ4bbqX4t",
        "outputId": "4f75cc9b-d7f1-4c0d-dc12-a3734acfe13f"
      },
      "execution_count": 67,
      "outputs": [
        {
          "output_type": "stream",
          "name": "stdout",
          "text": [
            "ADF Statistic: -14.862202807423168\n",
            "p-value: 1.712494424950651e-27\n",
            "number of Lags: 61\n",
            "Number of Obs: 66442\n"
          ]
        }
      ]
    },
    {
      "cell_type": "code",
      "source": [
        "# Difference \n",
        "plt.plot(comed_df.COMED_MW)\n",
        "plt.title (\"Original Series\")\n",
        "plt.show()"
      ],
      "metadata": {
        "colab": {
          "base_uri": "https://localhost:8080/",
          "height": 281
        },
        "id": "cfIIkPzNtXF7",
        "outputId": "ff503555-2d4a-47bc-9850-3dde5213dfe6"
      },
      "execution_count": 68,
      "outputs": [
        {
          "output_type": "display_data",
          "data": {
            "text/plain": [
              "<Figure size 432x288 with 1 Axes>"
            ],
            "image/png": "[encoded data removed]"
          },
          "metadata": {
            "needs_background": "light"
          }
        }
      ]
    },
    {
      "cell_type": "code",
      "source": [
        "# First Difference \n",
        "plt.plot(comed_df.COMED_MW.diff().dropna())\n",
        "plt.title (\"First Difference\")\n",
        "plt.show()"
      ],
      "metadata": {
        "colab": {
          "base_uri": "https://localhost:8080/",
          "height": 281
        },
        "id": "NnYP9p4jv2TJ",
        "outputId": "95128926-e267-4511-f4f8-41f0663500e4"
      },
      "execution_count": 69,
      "outputs": [
        {
          "output_type": "display_data",
          "data": {
            "text/plain": [
              "<Figure size 432x288 with 1 Axes>"
            ],
            "image/png": "[encoded data removed]"
          },
          "metadata": {
            "needs_background": "light"
          }
        }
      ]
    },
    {
      "cell_type": "code",
      "source": [
        "plt.plot(comed_df.COMED_MW.diff().diff().dropna())\n",
        "plt.title (\"First Difference of First Differece\")\n",
        "plt.show()"
      ],
      "metadata": {
        "colab": {
          "base_uri": "https://localhost:8080/",
          "height": 281
        },
        "id": "Q3XPzma_wFJY",
        "outputId": "e694cff7-987c-4e26-869f-099870197bca"
      },
      "execution_count": 70,
      "outputs": [
        {
          "output_type": "display_data",
          "data": {
            "text/plain": [
              "<Figure size 432x288 with 1 Axes>"
            ],
            "image/png": "[encoded data removed]"
          },
          "metadata": {
            "needs_background": "light"
          }
        }
      ]
    },
    {
      "cell_type": "code",
      "source": [
        "# Autocorrelation for Moving Average \n",
        "\n",
        "from statsmodels.graphics.tsaplots import plot_acf\n",
        "plot_acf(comed_df.COMED_MW,lags=100)\n",
        "plt.show()"
      ],
      "metadata": {
        "colab": {
          "base_uri": "https://localhost:8080/",
          "height": 281
        },
        "id": "vlI569xwvg_m",
        "outputId": "9f708d5a-2e8b-4ce1-c7b2-f035f3834766"
      },
      "execution_count": 71,
      "outputs": [
        {
          "output_type": "display_data",
          "data": {
            "text/plain": [
              "<Figure size 432x288 with 1 Axes>"
            ],
            "image/png": "[encoded data removed]"
          },
          "metadata": {
            "needs_background": "light"
          }
        }
      ]
    },
    {
      "cell_type": "code",
      "source": [
        "#PACF for AR \n",
        "from statsmodels.graphics.tsaplots import plot_pacf\n",
        "plot_pacf(comed_df['COMED_MW'], lags=100)\n",
        "plt.show()"
      ],
      "metadata": {
        "colab": {
          "base_uri": "https://localhost:8080/",
          "height": 281
        },
        "id": "4U7QFlrWzs2N",
        "outputId": "bab91a31-6423-4ab0-d127-f15accc8191a"
      },
      "execution_count": 72,
      "outputs": [
        {
          "output_type": "display_data",
          "data": {
            "text/plain": [
              "<Figure size 432x288 with 1 Axes>"
            ],
            "image/png": "[encoded data removed]"
          },
          "metadata": {
            "needs_background": "light"
          }
        }
      ]
    },
    {
      "cell_type": "code",
      "source": [],
      "metadata": {
        "id": "M_u69jhc0XYL"
      },
      "execution_count": 72,
      "outputs": []
    },
    {
      "cell_type": "code",
      "source": [],
      "metadata": {
        "id": "LiJfaKJmvWAt"
      },
      "execution_count": 72,
      "outputs": []
    },
    {
      "cell_type": "markdown",
      "source": [
        "## SAMIRA Model"
      ],
      "metadata": {
        "id": "NyYs2m2sMr09"
      }
    },
    {
      "cell_type": "code",
      "source": [
        "from datetime import datetime\n",
        "from sklearn.metrics import mean_squared_error\n",
        "from statsmodels.tsa.statespace.sarimax import SARIMAX\n",
        "\n",
        "#split data into testing and training sets. Traning on 5 years of data 2012 to 2017. Testing on 2017 data\n",
        "train_set = comed_df.loc[(comed_df.index >= datetime(2012, 1,1)) & (comed_df.index < datetime(2017,1, 1)), 'COMED_MW']\n",
        "test_set =comed_df.loc[(comed_df.index >= datetime(2017,1,1)),'COMED_MW']\n"
      ],
      "metadata": {
        "id": "hwCXDgQZIgRC"
      },
      "execution_count": 7,
      "outputs": []
    },
    {
      "cell_type": "code",
      "source": [
        "train_set"
      ],
      "metadata": {
        "colab": {
          "base_uri": "https://localhost:8080/"
        },
        "id": "PE3IjaFR7sbc",
        "outputId": "20ba86b8-361c-4730-986a-896954c65e17"
      },
      "execution_count": 102,
      "outputs": [
        {
          "output_type": "execute_result",
          "data": {
            "text/plain": [
              "Datetime\n",
              "2012-01-01 00:00:00    10335.0\n",
              "2012-01-01 01:00:00     9906.0\n",
              "2012-01-01 02:00:00     9407.0\n",
              "2012-01-01 03:00:00     9086.0\n",
              "2012-01-01 04:00:00     8758.0\n",
              "                        ...   \n",
              "2016-12-31 19:00:00    11587.0\n",
              "2016-12-31 20:00:00    11549.0\n",
              "2016-12-31 21:00:00    11273.0\n",
              "2016-12-31 22:00:00    11085.0\n",
              "2016-12-31 23:00:00    10801.0\n",
              "Freq: H, Name: COMED_MW, Length: 43848, dtype: float64"
            ]
          },
          "metadata": {},
          "execution_count": 102
        }
      ]
    },
    {
      "cell_type": "code",
      "source": [
        "train_data = [MW for MW in train_set]\n",
        "test_data = [MW for MW in test_set]\n",
        "\n",
        "\n",
        "model = SARIMAX(train_data, order=(1,0,0), seasonal_order=(1,0,0,24), enforce_stationarity=False, enfore_invertibility=False)\n",
        "model_fit = model.fit()\n"
      ],
      "metadata": {
        "id": "1uUlaqkMVAPR"
      },
      "execution_count": 8,
      "outputs": []
    },
    {
      "cell_type": "code",
      "source": [
        "model_fit.summary()"
      ],
      "metadata": {
        "id": "QZgtG6hnUkqE",
        "colab": {
          "base_uri": "https://localhost:8080/",
          "height": 430
        },
        "outputId": "cc4133d2-a87c-44d2-8fdb-2be11fe1aa4d"
      },
      "execution_count": 104,
      "outputs": [
        {
          "output_type": "execute_result",
          "data": {
            "text/plain": [
              "<class 'statsmodels.iolib.summary.Summary'>\n",
              "\"\"\"\n",
              "                                     SARIMAX Results                                      \n",
              "==========================================================================================\n",
              "Dep. Variable:                                  y   No. Observations:                43848\n",
              "Model:             SARIMAX(1, 0, 0)x(1, 0, 0, 24)   Log Likelihood             -296366.138\n",
              "Date:                            Sun, 13 Nov 2022   AIC                         592738.275\n",
              "Time:                                    03:03:51   BIC                         592764.339\n",
              "Sample:                                         0   HQIC                        592746.490\n",
              "                                          - 43848                                         \n",
              "Covariance Type:                              opg                                         \n",
              "==============================================================================\n",
              "                 coef    std err          z      P>|z|      [0.025      0.975]\n",
              "------------------------------------------------------------------------------\n",
              "ar.L1          0.9921      0.000   2156.989      0.000       0.991       0.993\n",
              "ar.S.L24       0.9010      0.002    514.211      0.000       0.898       0.904\n",
              "sigma2      4.381e+04    146.463    299.151      0.000    4.35e+04    4.41e+04\n",
              "===================================================================================\n",
              "Ljung-Box (L1) (Q):               24054.95   Jarque-Bera (JB):             92263.29\n",
              "Prob(Q):                              0.00   Prob(JB):                         0.00\n",
              "Heteroskedasticity (H):               0.94   Skew:                             0.57\n",
              "Prob(H) (two-sided):                  0.00   Kurtosis:                        10.02\n",
              "===================================================================================\n",
              "\n",
              "Warnings:\n",
              "[1] Covariance matrix calculated using the outer product of gradients (complex-step).\n",
              "\"\"\""
            ],
            "text/html": [
              "<table class=\"simpletable\">\n",
              "<caption>SARIMAX Results</caption>\n",
              "<tr>\n",
              "  <th>Dep. Variable:</th>                  <td>y</td>               <th>  No. Observations:  </th>    <td>43848</td>   \n",
              "</tr>\n",
              "<tr>\n",
              "  <th>Model:</th>           <td>SARIMAX(1, 0, 0)x(1, 0, 0, 24)</td> <th>  Log Likelihood     </th> <td>-296366.138</td>\n",
              "</tr>\n",
              "<tr>\n",
              "  <th>Date:</th>                   <td>Sun, 13 Nov 2022</td>        <th>  AIC                </th> <td>592738.275</td> \n",
              "</tr>\n",
              "<tr>\n",
              "  <th>Time:</th>                       <td>03:03:51</td>            <th>  BIC                </th> <td>592764.339</td> \n",
              "</tr>\n",
              "<tr>\n",
              "  <th>Sample:</th>                         <td>0</td>               <th>  HQIC               </th> <td>592746.490</td> \n",
              "</tr>\n",
              "<tr>\n",
              "  <th></th>                            <td> - 43848</td>            <th>                     </th>      <td> </td>     \n",
              "</tr>\n",
              "<tr>\n",
              "  <th>Covariance Type:</th>               <td>opg</td>              <th>                     </th>      <td> </td>     \n",
              "</tr>\n",
              "</table>\n",
              "<table class=\"simpletable\">\n",
              "<tr>\n",
              "      <td></td>        <th>coef</th>     <th>std err</th>      <th>z</th>      <th>P>|z|</th>  <th>[0.025</th>    <th>0.975]</th>  \n",
              "</tr>\n",
              "<tr>\n",
              "  <th>ar.L1</th>    <td>    0.9921</td> <td>    0.000</td> <td> 2156.989</td> <td> 0.000</td> <td>    0.991</td> <td>    0.993</td>\n",
              "</tr>\n",
              "<tr>\n",
              "  <th>ar.S.L24</th> <td>    0.9010</td> <td>    0.002</td> <td>  514.211</td> <td> 0.000</td> <td>    0.898</td> <td>    0.904</td>\n",
              "</tr>\n",
              "<tr>\n",
              "  <th>sigma2</th>   <td> 4.381e+04</td> <td>  146.463</td> <td>  299.151</td> <td> 0.000</td> <td> 4.35e+04</td> <td> 4.41e+04</td>\n",
              "</tr>\n",
              "</table>\n",
              "<table class=\"simpletable\">\n",
              "<tr>\n",
              "  <th>Ljung-Box (L1) (Q):</th>     <td>24054.95</td> <th>  Jarque-Bera (JB):  </th> <td>92263.29</td>\n",
              "</tr>\n",
              "<tr>\n",
              "  <th>Prob(Q):</th>                  <td>0.00</td>   <th>  Prob(JB):          </th>   <td>0.00</td>  \n",
              "</tr>\n",
              "<tr>\n",
              "  <th>Heteroskedasticity (H):</th>   <td>0.94</td>   <th>  Skew:              </th>   <td>0.57</td>  \n",
              "</tr>\n",
              "<tr>\n",
              "  <th>Prob(H) (two-sided):</th>      <td>0.00</td>   <th>  Kurtosis:          </th>   <td>10.02</td> \n",
              "</tr>\n",
              "</table><br/><br/>Warnings:<br/>[1] Covariance matrix calculated using the outer product of gradients (complex-step)."
            ]
          },
          "metadata": {},
          "execution_count": 104
        }
      ]
    },
    {
      "cell_type": "code",
      "source": [
        "results=model_fit.predict(len(test_data))\n",
        "results"
      ],
      "metadata": {
        "colab": {
          "base_uri": "https://localhost:8080/"
        },
        "id": "h2D435TI0C8j",
        "outputId": "9b167e12-5188-475f-f6f8-dcf643a8d880"
      },
      "execution_count": 15,
      "outputs": [
        {
          "output_type": "execute_result",
          "data": {
            "text/plain": [
              "array([10948.01034721, 10175.91645599,  9633.11532476, ...,\n",
              "       11414.29013656, 11048.42882977, 10750.22756933])"
            ]
          },
          "metadata": {},
          "execution_count": 15
        }
      ]
    },
    {
      "cell_type": "code",
      "source": [
        "len(results)"
      ],
      "metadata": {
        "colab": {
          "base_uri": "https://localhost:8080/"
        },
        "id": "zIc14JLZ0np1",
        "outputId": "f8eb4857-bde7-4adb-bd82-9e0d38ae80f0"
      },
      "execution_count": 16,
      "outputs": [
        {
          "output_type": "execute_result",
          "data": {
            "text/plain": [
              "29951"
            ]
          },
          "metadata": {},
          "execution_count": 16
        }
      ]
    },
    {
      "cell_type": "code",
      "source": [
        "plt.plot(results)\n",
        "plt.show()"
      ],
      "metadata": {
        "colab": {
          "base_uri": "https://localhost:8080/",
          "height": 265
        },
        "id": "pr5e_6Takd3c",
        "outputId": "0ebf96fc-8be0-4f15-81a9-483965aebdf0"
      },
      "execution_count": 18,
      "outputs": [
        {
          "output_type": "display_data",
          "data": {
            "text/plain": [
              "<Figure size 432x288 with 1 Axes>"
            ],
            "image/png": "[encoded data removed]"
          },
          "metadata": {
            "needs_background": "light"
          }
        }
      ]
    },
    {
      "cell_type": "code",
      "source": [
        "plt.plot(results_predict)"
      ],
      "metadata": {
        "id": "tLdhQTyJosr7"
      },
      "execution_count": null,
      "outputs": []
    }
  ]
}