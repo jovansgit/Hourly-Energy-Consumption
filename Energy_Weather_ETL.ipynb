{
  "cells": [
    {
      "cell_type": "markdown",
      "metadata": {
        "id": "view-in-github",
        "colab_type": "text"
      },
      "source": [
        "<a href=\"https://colab.research.google.com/github/jovansgit/Hourly-Energy-Consumption/blob/main/Energy_Weather_ETL.ipynb\" target=\"_parent\"><img src=\"https://colab.research.google.com/assets/colab-badge.svg\" alt=\"Open In Colab\"/></a>"
      ]
    },
    {
      "cell_type": "code",
      "execution_count": 1,
      "metadata": {
        "colab": {
          "base_uri": "https://localhost:8080/"
        },
        "id": "i-8YsbqcxMRo",
        "outputId": "133cee47-df15-4775-f6e0-655910e3f3a0"
      },
      "outputs": [
        {
          "output_type": "stream",
          "name": "stdout",
          "text": [
            "\r0% [Working]\r            \rHit:1 https://cloud.r-project.org/bin/linux/ubuntu bionic-cran40/ InRelease\n",
            "\r0% [Connecting to archive.ubuntu.com (91.189.91.39)] [Connecting to security.ub\r0% [1 InRelease gpgv 3,626 B] [Connecting to archive.ubuntu.com (91.189.91.39)]\r                                                                               \rIgn:2 https://developer.download.nvidia.com/compute/machine-learning/repos/ubuntu1804/x86_64  InRelease\n",
            "\r0% [1 InRelease gpgv 3,626 B] [Waiting for headers] [Waiting for headers] [Wait\r                                                                               \rHit:3 https://developer.download.nvidia.com/compute/cuda/repos/ubuntu1804/x86_64  InRelease\n",
            "\r0% [1 InRelease gpgv 3,626 B] [Waiting for headers] [Waiting for headers] [Conn\r                                                                               \rHit:4 http://security.ubuntu.com/ubuntu bionic-security InRelease\n",
            "\r0% [1 InRelease gpgv 3,626 B] [Waiting for headers] [Waiting for headers] [Conn\r                                                                               \rHit:5 http://archive.ubuntu.com/ubuntu bionic InRelease\n",
            "\r0% [1 InRelease gpgv 3,626 B] [Waiting for headers] [Waiting for headers] [Conn\r                                                                               \rHit:6 https://developer.download.nvidia.com/compute/machine-learning/repos/ubuntu1804/x86_64  Release\n",
            "\r                                                                               \r0% [1 InRelease gpgv 3,626 B] [Waiting for headers] [Waiting for headers]\r                                                                         \rHit:7 http://archive.ubuntu.com/ubuntu bionic-updates InRelease\n",
            "\r0% [1 InRelease gpgv 3,626 B] [Waiting for headers] [Waiting for headers]\r                                                                         \r0% [Waiting for headers] [Waiting for headers]\r0% [3 InRelease gpgv 1,581 B] [Waiting for headers] [Waiting for headers]\r                                                                         \rHit:8 http://archive.ubuntu.com/ubuntu bionic-backports InRelease\n",
            "Hit:9 http://ppa.launchpad.net/c2d4u.team/c2d4u4.0+/ubuntu bionic InRelease\n",
            "Hit:10 http://ppa.launchpad.net/cran/libgit2/ubuntu bionic InRelease\n",
            "Hit:12 http://ppa.launchpad.net/deadsnakes/ppa/ubuntu bionic InRelease\n",
            "Hit:13 http://ppa.launchpad.net/graphics-drivers/ppa/ubuntu bionic InRelease\n",
            "Reading package lists... Done\n"
          ]
        }
      ],
      "source": [
        "import os\n",
        "# Find the latest version of spark 3.0 from http://www.apache.org/dist/spark/ and enter as the spark version\n",
        "# For example:\n",
        "# spark_version = 'spark-3.0.3'\n",
        "spark_version = 'spark-3.2.2'\n",
        "os.environ['SPARK_VERSION']=spark_version\n",
        "\n",
        "# Install Spark and Java\n",
        "!apt-get update\n",
        "!apt-get install openjdk-11-jdk-headless -qq > /dev/null\n",
        "!wget -q http://www.apache.org/dist/spark/$SPARK_VERSION/$SPARK_VERSION-bin-hadoop2.7.tgz\n",
        "!tar xf $SPARK_VERSION-bin-hadoop2.7.tgz\n",
        "!pip install -q findspark\n",
        "\n",
        "# Set Environment Variables\n",
        "import os\n",
        "os.environ[\"JAVA_HOME\"] = \"/usr/lib/jvm/java-11-openjdk-amd64\"\n",
        "os.environ[\"SPARK_HOME\"] = f\"/content/{spark_version}-bin-hadoop2.7\"\n",
        "\n",
        "# Start a SparkSession\n",
        "import findspark\n",
        "findspark.init()"
      ]
    },
    {
      "cell_type": "code",
      "execution_count": 2,
      "metadata": {
        "colab": {
          "base_uri": "https://localhost:8080/"
        },
        "id": "-G5ltHYBxQLw",
        "outputId": "aa26411f-59a8-4e22-e8fb-3c594ee2eaa2"
      },
      "outputs": [
        {
          "output_type": "stream",
          "name": "stdout",
          "text": [
            "--2022-11-14 23:34:04--  https://jdbc.postgresql.org/download/postgresql-42.2.16.jar\n",
            "Resolving jdbc.postgresql.org (jdbc.postgresql.org)... 72.32.157.228, 2001:4800:3e1:1::228\n",
            "Connecting to jdbc.postgresql.org (jdbc.postgresql.org)|72.32.157.228|:443... connected.\n",
            "HTTP request sent, awaiting response... 200 OK\n",
            "Length: 1002883 (979K) [application/java-archive]\n",
            "Saving to: ‘postgresql-42.2.16.jar.1’\n",
            "\n",
            "postgresql-42.2.16. 100%[===================>] 979.38K  4.93MB/s    in 0.2s    \n",
            "\n",
            "2022-11-14 23:34:04 (4.93 MB/s) - ‘postgresql-42.2.16.jar.1’ saved [1002883/1002883]\n",
            "\n"
          ]
        }
      ],
      "source": [
        "!wget https://jdbc.postgresql.org/download/postgresql-42.2.16.jar"
      ]
    },
    {
      "cell_type": "code",
      "execution_count": 3,
      "metadata": {
        "id": "NoBgTMjhxQP6"
      },
      "outputs": [],
      "source": [
        "from pyspark.sql import SparkSession\n",
        "spark = SparkSession.builder.appName(\"CloudETL\").config(\"spark.driver.extraClassPath\",\"/content/postgresql-42.2.16.jar\").getOrCreate()"
      ]
    },
    {
      "cell_type": "code",
      "execution_count": 15,
      "metadata": {
        "id": "0Awz4VbTxQSv"
      },
      "outputs": [],
      "source": [
        "# Read in data from S3 Buckets\n",
        "from pyspark import SparkFiles\n",
        "url =\"https://my-bootcamp-jovan.s3.amazonaws.com/Chicago_Weather_Data.csv\"\n",
        "spark.sparkContext.addFile(url)\n",
        "weather_data_df = spark.read.csv(SparkFiles.get(\"Chicago_Weather_Data.csv\"), sep=\",\", header=True, inferSchema=True)"
      ]
    },
    {
      "cell_type": "code",
      "execution_count": 16,
      "metadata": {
        "colab": {
          "base_uri": "https://localhost:8080/"
        },
        "id": "2-REng3uxQV_",
        "outputId": "867b22ae-2428-4839-c0e0-d6c6e6c1e302"
      },
      "outputs": [
        {
          "output_type": "stream",
          "name": "stdout",
          "text": [
            "+----------+-------------------+--------+---------+---------+----------+-----+----------+---------+----------+--------+--------+--------+---------+----------+--------+----------+--------+---------+-------+-------+-------+-------+----------+----------+------------+-------------------+------------+\n",
            "|        dt|             dt_iso|timezone|city_name|      lat|       lon| temp|visibility|dew_point|feels_like|temp_min|temp_max|pressure|sea_level|grnd_level|humidity|wind_speed|wind_deg|wind_gust|rain_1h|rain_3h|snow_1h|snow_3h|clouds_all|weather_id|weather_main|weather_description|weather_icon|\n",
            "+----------+-------------------+--------+---------+---------+----------+-----+----------+---------+----------+--------+--------+--------+---------+----------+--------+----------+--------+---------+-------+-------+-------+-------+----------+----------+------------+-------------------+------------+\n",
            "|1293840000|2011-01-01 00:00:00|  -21600|  Chicago|41.878114|-87.629798|48.96|     10000|    47.03|     44.29|   44.76|   56.01|    1005|     null|      null|      93|     11.41|     170|     20.8|   null|   null|   null|   null|       100|       804|      Clouds|    overcast clouds|         04n|\n",
            "|1293843600|2011-01-01 01:00:00|  -21600|  Chicago|41.878114|-87.629798|49.17|     10000|    47.25|     43.59|   44.64|   55.11|    1005|     null|      null|      93|     14.99|     170|    24.16|   null|   null|   null|   null|       100|       804|      Clouds|    overcast clouds|         04n|\n",
            "|1293847200|2011-01-01 02:00:00|  -21600|  Chicago|41.878114|-87.629798| 49.1|     10000|    47.17|     45.21|   44.53|   55.47|    1005|     null|      null|      93|      9.17|     180|     null|    0.2|   null|   null|   null|       100|       500|        Rain|         light rain|         10n|\n",
            "|1293850800|2011-01-01 03:00:00|  -21600|  Chicago|41.878114|-87.629798|47.84|     10000|    44.76|     43.66|   44.26|   54.03|    1006|     null|      null|      89|      9.17|     170|     null|   0.12|   null|   null|   null|       100|       500|        Rain|         light rain|         10n|\n",
            "|1293854400|2011-01-01 04:00:00|  -21600|  Chicago|41.878114|-87.629798|48.09|     10000|    44.11|      42.8|   44.06|   55.11|    1005|     null|      null|      86|     12.75|     170|     null|   null|   null|   null|   null|       100|       500|        Rain|         light rain|         10n|\n",
            "|1293858000|2011-01-01 05:00:00|  -21600|  Chicago|41.878114|-87.629798|48.43|     10000|    43.52|     42.64|   43.72|   56.01|    1006|     null|      null|      83|     14.99|     190|    31.09|   null|   null|   null|   null|       100|       500|        Rain|         light rain|         10n|\n",
            "|1293861600|2011-01-01 06:00:00|  -21600|  Chicago|41.878114|-87.629798|47.86|     10000|    40.33|     40.64|   43.43|   51.39|    1007|     null|      null|      75|      20.8|     280|     null|   0.14|   null|   null|   null|       100|       500|        Rain|         light rain|         10n|\n",
            "|1293865200|2011-01-01 07:00:00|  -21600|  Chicago|41.878114|-87.629798|44.46|     10000|    28.42|     37.26|   42.28|   46.26|    1007|     null|      null|      52|     16.11|     260|    25.28|   0.15|   null|   null|   null|       100|       500|        Rain|         light rain|         10n|\n",
            "|1293868800|2011-01-01 08:00:00|  -21600|  Chicago|41.878114|-87.629798|38.19|     10000|    24.06|     29.89|   37.27|   39.99|    1008|     null|      null|      54|     13.87|     260|     20.8|   null|   null|   null|   null|        75|       803|      Clouds|      broken clouds|         04n|\n",
            "|1293872400|2011-01-01 09:00:00|  -21600|  Chicago|41.878114|-87.629798|33.98|     10000|    22.41|     25.52|   32.88|   38.01|    1009|     null|      null|      59|     11.41|     250|    19.46|   null|   null|   null|   null|       100|       804|      Clouds|    overcast clouds|         04n|\n",
            "|1293876000|2011-01-01 10:00:00|  -21600|  Chicago|41.878114|-87.629798|30.56|     10000|     21.7|     20.17|   29.39|   36.03|    1008|     null|      null|      66|     13.87|     230|    29.97|   null|   null|   null|   null|        75|       803|      Clouds|      broken clouds|         04n|\n",
            "|1293879600|2011-01-01 11:00:00|  -21600|  Chicago|41.878114|-87.629798|29.08|     10000|    21.79|     17.04|   28.58|   33.15|    1009|     null|      null|      71|     17.22|     240|    21.92|   null|   null|   null|   null|        40|       802|      Clouds|   scattered clouds|         03n|\n",
            "|1293883200|2011-01-01 12:00:00|  -21600|  Chicago|41.878114|-87.629798|27.68|     10000|    19.54|     15.64|   26.78|   30.99|    1009|     null|      null|      68|     16.11|     240|    23.04|   null|   null|   null|   null|        40|       802|      Clouds|   scattered clouds|         03n|\n",
            "|1293886800|2011-01-01 13:00:00|  -21600|  Chicago|41.878114|-87.629798|26.92|     10000|    19.71|     14.67|   25.57|   30.09|    1009|     null|      null|      71|     16.11|     240|     null|   null|   null|   null|   null|        75|       803|      Clouds|      broken clouds|         04n|\n",
            "|1293890400|2011-01-01 14:00:00|  -21600|  Chicago|41.878114|-87.629798|26.33|     10000|    16.34|     13.89|   24.87|   28.11|    1010|     null|      null|      62|     16.11|     250|    32.21|   null|   null|   null|   null|        75|       803|      Clouds|      broken clouds|         04d|\n",
            "|1293894000|2011-01-01 15:00:00|  -21600|  Chicago|41.878114|-87.629798|25.18|     10000|    14.22|     12.58|   24.55|   26.13|    1014|     null|      null|      59|     16.11|     240|    25.28|   null|   null|   null|   null|       100|       804|      Clouds|    overcast clouds|         04d|\n",
            "|1293897600|2011-01-01 16:00:00|  -21600|  Chicago|41.878114|-87.629798|24.31|     10000|    11.61|     11.71|   23.85|   24.76|    1013|     null|      null|      54|     23.04|     240|    28.86|   null|   null|   null|   null|       100|       804|      Clouds|    overcast clouds|         04d|\n",
            "|1293901200|2011-01-01 17:00:00|  -21600|  Chicago|41.878114|-87.629798|22.73|     10000|    10.11|     10.13|   21.99|   23.61|    1013|     null|      null|      54|     21.92|     240|    33.33|   null|   null|   null|   null|       100|       804|      Clouds|    overcast clouds|         04d|\n",
            "|1293904800|2011-01-01 18:00:00|  -21600|  Chicago|41.878114|-87.629798|22.01|     10000|     9.05|      9.41|   21.09|   22.86|    1013|     null|      null|      53|      20.8|     240|    33.33|   null|   null|   null|   null|        75|       803|      Clouds|      broken clouds|         04d|\n",
            "|1293908400|2011-01-01 19:00:00|  -21600|  Chicago|41.878114|-87.629798|22.24|     10000|     8.51|      9.64|   21.83|   22.86|    1013|     null|      null|      51|      20.8|     250|    32.21|   null|   null|   null|   null|        40|       802|      Clouds|   scattered clouds|         03d|\n",
            "+----------+-------------------+--------+---------+---------+----------+-----+----------+---------+----------+--------+--------+--------+---------+----------+--------+----------+--------+---------+-------+-------+-------+-------+----------+----------+------------+-------------------+------------+\n",
            "only showing top 20 rows\n",
            "\n"
          ]
        }
      ],
      "source": [
        "weather_data_df.show()"
      ]
    },
    {
      "cell_type": "code",
      "execution_count": 7,
      "metadata": {
        "id": "T8guUkFfxQdG"
      },
      "outputs": [],
      "source": [
        "# Read in data from S3 Buckets\n",
        "from pyspark import SparkFiles\n",
        "url =\"https://my-bootcamp-jovan.s3.amazonaws.com/COMED_hourly.csv\"\n",
        "spark.sparkContext.addFile(url)\n",
        "Energy_data_df = spark.read.csv(SparkFiles.get(\"COMED_hourly.csv\"), sep=\",\", header=True, inferSchema=True)"
      ]
    },
    {
      "cell_type": "code",
      "execution_count": 8,
      "metadata": {
        "colab": {
          "base_uri": "https://localhost:8080/"
        },
        "id": "Z2mhjOBaxQde",
        "outputId": "41c5083e-44ca-4f73-936b-80b906ed6861"
      },
      "outputs": [
        {
          "output_type": "stream",
          "name": "stdout",
          "text": [
            "+-------------------+--------+\n",
            "|           Datetime|COMED_MW|\n",
            "+-------------------+--------+\n",
            "|2011-12-31 01:00:00|  9970.0|\n",
            "|2011-12-31 02:00:00|  9428.0|\n",
            "|2011-12-31 03:00:00|  9059.0|\n",
            "|2011-12-31 04:00:00|  8817.0|\n",
            "|2011-12-31 05:00:00|  8743.0|\n",
            "|2011-12-31 06:00:00|  8735.0|\n",
            "|2011-12-31 07:00:00|  8993.0|\n",
            "|2011-12-31 08:00:00|  9363.0|\n",
            "|2011-12-31 09:00:00|  9545.0|\n",
            "|2011-12-31 10:00:00|  9676.0|\n",
            "|2011-12-31 11:00:00|  9937.0|\n",
            "|2011-12-31 12:00:00| 10139.0|\n",
            "|2011-12-31 13:00:00| 10326.0|\n",
            "|2011-12-31 14:00:00| 10359.0|\n",
            "|2011-12-31 15:00:00| 10293.0|\n",
            "|2011-12-31 16:00:00| 10240.0|\n",
            "|2011-12-31 17:00:00| 10416.0|\n",
            "|2011-12-31 18:00:00| 11225.0|\n",
            "|2011-12-31 19:00:00| 11907.0|\n",
            "|2011-12-31 20:00:00| 11812.0|\n",
            "+-------------------+--------+\n",
            "only showing top 20 rows\n",
            "\n"
          ]
        }
      ],
      "source": [
        "Energy_data_df.show()"
      ]
    },
    {
      "cell_type": "code",
      "source": [
        "weather_data_df = weather_data_df.withColumnRenamed(\"dt_iso\",\"Datetime\")"
      ],
      "metadata": {
        "id": "7KZ15ToMkB8-"
      },
      "execution_count": 17,
      "outputs": []
    },
    {
      "cell_type": "code",
      "source": [
        "weather_data_df.show()"
      ],
      "metadata": {
        "colab": {
          "base_uri": "https://localhost:8080/"
        },
        "id": "HSAcP62Lk6Am",
        "outputId": "13088f4a-6695-4417-9810-18260831b332"
      },
      "execution_count": 18,
      "outputs": [
        {
          "output_type": "stream",
          "name": "stdout",
          "text": [
            "+----------+-------------------+--------+---------+---------+----------+-----+----------+---------+----------+--------+--------+--------+---------+----------+--------+----------+--------+---------+-------+-------+-------+-------+----------+----------+------------+-------------------+------------+\n",
            "|        dt|           Datetime|timezone|city_name|      lat|       lon| temp|visibility|dew_point|feels_like|temp_min|temp_max|pressure|sea_level|grnd_level|humidity|wind_speed|wind_deg|wind_gust|rain_1h|rain_3h|snow_1h|snow_3h|clouds_all|weather_id|weather_main|weather_description|weather_icon|\n",
            "+----------+-------------------+--------+---------+---------+----------+-----+----------+---------+----------+--------+--------+--------+---------+----------+--------+----------+--------+---------+-------+-------+-------+-------+----------+----------+------------+-------------------+------------+\n",
            "|1293840000|2011-01-01 00:00:00|  -21600|  Chicago|41.878114|-87.629798|48.96|     10000|    47.03|     44.29|   44.76|   56.01|    1005|     null|      null|      93|     11.41|     170|     20.8|   null|   null|   null|   null|       100|       804|      Clouds|    overcast clouds|         04n|\n",
            "|1293843600|2011-01-01 01:00:00|  -21600|  Chicago|41.878114|-87.629798|49.17|     10000|    47.25|     43.59|   44.64|   55.11|    1005|     null|      null|      93|     14.99|     170|    24.16|   null|   null|   null|   null|       100|       804|      Clouds|    overcast clouds|         04n|\n",
            "|1293847200|2011-01-01 02:00:00|  -21600|  Chicago|41.878114|-87.629798| 49.1|     10000|    47.17|     45.21|   44.53|   55.47|    1005|     null|      null|      93|      9.17|     180|     null|    0.2|   null|   null|   null|       100|       500|        Rain|         light rain|         10n|\n",
            "|1293850800|2011-01-01 03:00:00|  -21600|  Chicago|41.878114|-87.629798|47.84|     10000|    44.76|     43.66|   44.26|   54.03|    1006|     null|      null|      89|      9.17|     170|     null|   0.12|   null|   null|   null|       100|       500|        Rain|         light rain|         10n|\n",
            "|1293854400|2011-01-01 04:00:00|  -21600|  Chicago|41.878114|-87.629798|48.09|     10000|    44.11|      42.8|   44.06|   55.11|    1005|     null|      null|      86|     12.75|     170|     null|   null|   null|   null|   null|       100|       500|        Rain|         light rain|         10n|\n",
            "|1293858000|2011-01-01 05:00:00|  -21600|  Chicago|41.878114|-87.629798|48.43|     10000|    43.52|     42.64|   43.72|   56.01|    1006|     null|      null|      83|     14.99|     190|    31.09|   null|   null|   null|   null|       100|       500|        Rain|         light rain|         10n|\n",
            "|1293861600|2011-01-01 06:00:00|  -21600|  Chicago|41.878114|-87.629798|47.86|     10000|    40.33|     40.64|   43.43|   51.39|    1007|     null|      null|      75|      20.8|     280|     null|   0.14|   null|   null|   null|       100|       500|        Rain|         light rain|         10n|\n",
            "|1293865200|2011-01-01 07:00:00|  -21600|  Chicago|41.878114|-87.629798|44.46|     10000|    28.42|     37.26|   42.28|   46.26|    1007|     null|      null|      52|     16.11|     260|    25.28|   0.15|   null|   null|   null|       100|       500|        Rain|         light rain|         10n|\n",
            "|1293868800|2011-01-01 08:00:00|  -21600|  Chicago|41.878114|-87.629798|38.19|     10000|    24.06|     29.89|   37.27|   39.99|    1008|     null|      null|      54|     13.87|     260|     20.8|   null|   null|   null|   null|        75|       803|      Clouds|      broken clouds|         04n|\n",
            "|1293872400|2011-01-01 09:00:00|  -21600|  Chicago|41.878114|-87.629798|33.98|     10000|    22.41|     25.52|   32.88|   38.01|    1009|     null|      null|      59|     11.41|     250|    19.46|   null|   null|   null|   null|       100|       804|      Clouds|    overcast clouds|         04n|\n",
            "|1293876000|2011-01-01 10:00:00|  -21600|  Chicago|41.878114|-87.629798|30.56|     10000|     21.7|     20.17|   29.39|   36.03|    1008|     null|      null|      66|     13.87|     230|    29.97|   null|   null|   null|   null|        75|       803|      Clouds|      broken clouds|         04n|\n",
            "|1293879600|2011-01-01 11:00:00|  -21600|  Chicago|41.878114|-87.629798|29.08|     10000|    21.79|     17.04|   28.58|   33.15|    1009|     null|      null|      71|     17.22|     240|    21.92|   null|   null|   null|   null|        40|       802|      Clouds|   scattered clouds|         03n|\n",
            "|1293883200|2011-01-01 12:00:00|  -21600|  Chicago|41.878114|-87.629798|27.68|     10000|    19.54|     15.64|   26.78|   30.99|    1009|     null|      null|      68|     16.11|     240|    23.04|   null|   null|   null|   null|        40|       802|      Clouds|   scattered clouds|         03n|\n",
            "|1293886800|2011-01-01 13:00:00|  -21600|  Chicago|41.878114|-87.629798|26.92|     10000|    19.71|     14.67|   25.57|   30.09|    1009|     null|      null|      71|     16.11|     240|     null|   null|   null|   null|   null|        75|       803|      Clouds|      broken clouds|         04n|\n",
            "|1293890400|2011-01-01 14:00:00|  -21600|  Chicago|41.878114|-87.629798|26.33|     10000|    16.34|     13.89|   24.87|   28.11|    1010|     null|      null|      62|     16.11|     250|    32.21|   null|   null|   null|   null|        75|       803|      Clouds|      broken clouds|         04d|\n",
            "|1293894000|2011-01-01 15:00:00|  -21600|  Chicago|41.878114|-87.629798|25.18|     10000|    14.22|     12.58|   24.55|   26.13|    1014|     null|      null|      59|     16.11|     240|    25.28|   null|   null|   null|   null|       100|       804|      Clouds|    overcast clouds|         04d|\n",
            "|1293897600|2011-01-01 16:00:00|  -21600|  Chicago|41.878114|-87.629798|24.31|     10000|    11.61|     11.71|   23.85|   24.76|    1013|     null|      null|      54|     23.04|     240|    28.86|   null|   null|   null|   null|       100|       804|      Clouds|    overcast clouds|         04d|\n",
            "|1293901200|2011-01-01 17:00:00|  -21600|  Chicago|41.878114|-87.629798|22.73|     10000|    10.11|     10.13|   21.99|   23.61|    1013|     null|      null|      54|     21.92|     240|    33.33|   null|   null|   null|   null|       100|       804|      Clouds|    overcast clouds|         04d|\n",
            "|1293904800|2011-01-01 18:00:00|  -21600|  Chicago|41.878114|-87.629798|22.01|     10000|     9.05|      9.41|   21.09|   22.86|    1013|     null|      null|      53|      20.8|     240|    33.33|   null|   null|   null|   null|        75|       803|      Clouds|      broken clouds|         04d|\n",
            "|1293908400|2011-01-01 19:00:00|  -21600|  Chicago|41.878114|-87.629798|22.24|     10000|     8.51|      9.64|   21.83|   22.86|    1013|     null|      null|      51|      20.8|     250|    32.21|   null|   null|   null|   null|        40|       802|      Clouds|   scattered clouds|         03d|\n",
            "+----------+-------------------+--------+---------+---------+----------+-----+----------+---------+----------+--------+--------+--------+---------+----------+--------+----------+--------+---------+-------+-------+-------+-------+----------+----------+------------+-------------------+------------+\n",
            "only showing top 20 rows\n",
            "\n"
          ]
        }
      ]
    },
    {
      "cell_type": "code",
      "source": [
        "#Join the two DataFrame\n",
        "joined_df = Energy_data_df.join(weather_data_df,on=\"Datetime\", how=\"inner\")\n",
        "joined_df.show()"
      ],
      "metadata": {
        "colab": {
          "base_uri": "https://localhost:8080/"
        },
        "id": "AXwgtSkLkCH6",
        "outputId": "01d5f27e-7fdd-4925-f880-4c29d3064150"
      },
      "execution_count": 21,
      "outputs": [
        {
          "output_type": "stream",
          "name": "stdout",
          "text": [
            "+-------------------+--------+----------+--------+---------+---------+----------+-----+----------+---------+----------+--------+--------+--------+---------+----------+--------+----------+--------+---------+-------+-------+-------+-------+----------+----------+------------+-------------------+------------+\n",
            "|           Datetime|COMED_MW|        dt|timezone|city_name|      lat|       lon| temp|visibility|dew_point|feels_like|temp_min|temp_max|pressure|sea_level|grnd_level|humidity|wind_speed|wind_deg|wind_gust|rain_1h|rain_3h|snow_1h|snow_3h|clouds_all|weather_id|weather_main|weather_description|weather_icon|\n",
            "+-------------------+--------+----------+--------+---------+---------+----------+-----+----------+---------+----------+--------+--------+--------+---------+----------+--------+----------+--------+---------+-------+-------+-------+-------+----------+----------+------------+-------------------+------------+\n",
            "|2011-01-01 01:00:00|  9631.0|1293843600|  -21600|  Chicago|41.878114|-87.629798|49.17|     10000|    47.25|     43.59|   44.64|   55.11|    1005|     null|      null|      93|     14.99|     170|    24.16|   null|   null|   null|   null|       100|       804|      Clouds|    overcast clouds|         04n|\n",
            "|2011-01-01 02:00:00|  9273.0|1293847200|  -21600|  Chicago|41.878114|-87.629798| 49.1|     10000|    47.17|     45.21|   44.53|   55.47|    1005|     null|      null|      93|      9.17|     180|     null|    0.2|   null|   null|   null|       100|       500|        Rain|         light rain|         10n|\n",
            "|2011-01-01 03:00:00|  9011.0|1293850800|  -21600|  Chicago|41.878114|-87.629798|47.84|     10000|    44.76|     43.66|   44.26|   54.03|    1006|     null|      null|      89|      9.17|     170|     null|   0.12|   null|   null|   null|       100|       500|        Rain|         light rain|         10n|\n",
            "|2011-01-01 04:00:00|  8741.0|1293854400|  -21600|  Chicago|41.878114|-87.629798|48.09|     10000|    44.11|      42.8|   44.06|   55.11|    1005|     null|      null|      86|     12.75|     170|     null|   null|   null|   null|   null|       100|       500|        Rain|         light rain|         10n|\n",
            "|2011-01-01 05:00:00|  8694.0|1293858000|  -21600|  Chicago|41.878114|-87.629798|48.43|     10000|    43.52|     42.64|   43.72|   56.01|    1006|     null|      null|      83|     14.99|     190|    31.09|   null|   null|   null|   null|       100|       500|        Rain|         light rain|         10n|\n",
            "|2011-01-01 06:00:00|  8711.0|1293861600|  -21600|  Chicago|41.878114|-87.629798|47.86|     10000|    40.33|     40.64|   43.43|   51.39|    1007|     null|      null|      75|      20.8|     280|     null|   0.14|   null|   null|   null|       100|       500|        Rain|         light rain|         10n|\n",
            "|2011-01-01 07:00:00|  8943.0|1293865200|  -21600|  Chicago|41.878114|-87.629798|44.46|     10000|    28.42|     37.26|   42.28|   46.26|    1007|     null|      null|      52|     16.11|     260|    25.28|   0.15|   null|   null|   null|       100|       500|        Rain|         light rain|         10n|\n",
            "|2011-01-01 08:00:00|  9222.0|1293868800|  -21600|  Chicago|41.878114|-87.629798|38.19|     10000|    24.06|     29.89|   37.27|   39.99|    1008|     null|      null|      54|     13.87|     260|     20.8|   null|   null|   null|   null|        75|       803|      Clouds|      broken clouds|         04n|\n",
            "|2011-01-01 09:00:00|  9430.0|1293872400|  -21600|  Chicago|41.878114|-87.629798|33.98|     10000|    22.41|     25.52|   32.88|   38.01|    1009|     null|      null|      59|     11.41|     250|    19.46|   null|   null|   null|   null|       100|       804|      Clouds|    overcast clouds|         04n|\n",
            "|2011-01-01 10:00:00|  9670.0|1293876000|  -21600|  Chicago|41.878114|-87.629798|30.56|     10000|     21.7|     20.17|   29.39|   36.03|    1008|     null|      null|      66|     13.87|     230|    29.97|   null|   null|   null|   null|        75|       803|      Clouds|      broken clouds|         04n|\n",
            "|2011-01-01 11:00:00| 10125.0|1293879600|  -21600|  Chicago|41.878114|-87.629798|29.08|     10000|    21.79|     17.04|   28.58|   33.15|    1009|     null|      null|      71|     17.22|     240|    21.92|   null|   null|   null|   null|        40|       802|      Clouds|   scattered clouds|         03n|\n",
            "|2011-01-01 12:00:00| 10538.0|1293883200|  -21600|  Chicago|41.878114|-87.629798|27.68|     10000|    19.54|     15.64|   26.78|   30.99|    1009|     null|      null|      68|     16.11|     240|    23.04|   null|   null|   null|   null|        40|       802|      Clouds|   scattered clouds|         03n|\n",
            "|2011-01-01 13:00:00| 10782.0|1293886800|  -21600|  Chicago|41.878114|-87.629798|26.92|     10000|    19.71|     14.67|   25.57|   30.09|    1009|     null|      null|      71|     16.11|     240|     null|   null|   null|   null|   null|        75|       803|      Clouds|      broken clouds|         04n|\n",
            "|2011-01-01 14:00:00| 10861.0|1293890400|  -21600|  Chicago|41.878114|-87.629798|26.33|     10000|    16.34|     13.89|   24.87|   28.11|    1010|     null|      null|      62|     16.11|     250|    32.21|   null|   null|   null|   null|        75|       803|      Clouds|      broken clouds|         04d|\n",
            "|2011-01-01 15:00:00| 10784.0|1293894000|  -21600|  Chicago|41.878114|-87.629798|25.18|     10000|    14.22|     12.58|   24.55|   26.13|    1014|     null|      null|      59|     16.11|     240|    25.28|   null|   null|   null|   null|       100|       804|      Clouds|    overcast clouds|         04d|\n",
            "|2011-01-01 16:00:00| 10928.0|1293897600|  -21600|  Chicago|41.878114|-87.629798|24.31|     10000|    11.61|     11.71|   23.85|   24.76|    1013|     null|      null|      54|     23.04|     240|    28.86|   null|   null|   null|   null|       100|       804|      Clouds|    overcast clouds|         04d|\n",
            "|2011-01-01 17:00:00| 11133.0|1293901200|  -21600|  Chicago|41.878114|-87.629798|22.73|     10000|    10.11|     10.13|   21.99|   23.61|    1013|     null|      null|      54|     21.92|     240|    33.33|   null|   null|   null|   null|       100|       804|      Clouds|    overcast clouds|         04d|\n",
            "|2011-01-01 18:00:00| 11924.0|1293904800|  -21600|  Chicago|41.878114|-87.629798|22.01|     10000|     9.05|      9.41|   21.09|   22.86|    1013|     null|      null|      53|      20.8|     240|    33.33|   null|   null|   null|   null|        75|       803|      Clouds|      broken clouds|         04d|\n",
            "|2011-01-01 19:00:00| 12665.0|1293908400|  -21600|  Chicago|41.878114|-87.629798|22.24|     10000|     8.51|      9.64|   21.83|   22.86|    1013|     null|      null|      51|      20.8|     250|    32.21|   null|   null|   null|   null|        40|       802|      Clouds|   scattered clouds|         03d|\n",
            "|2011-01-01 20:00:00| 12701.0|1293912000|  -21600|  Chicago|41.878114|-87.629798|22.68|     10000|     8.13|     10.08|   21.99|   23.54|    1013|     null|      null|      49|     24.16|     240|    33.33|   null|   null|   null|   null|        75|       803|      Clouds|      broken clouds|         04d|\n",
            "+-------------------+--------+----------+--------+---------+---------+----------+-----+----------+---------+----------+--------+--------+--------+---------+----------+--------+----------+--------+---------+-------+-------+-------+-------+----------+----------+------------+-------------------+------------+\n",
            "only showing top 20 rows\n",
            "\n"
          ]
        }
      ]
    },
    {
      "cell_type": "code",
      "source": [
        "#Drop null values\n",
        "dropna_df = joined_df.dropna()\n",
        "dropna_df.show()\n",
        "\n"
      ],
      "metadata": {
        "colab": {
          "base_uri": "https://localhost:8080/"
        },
        "id": "hhMO6X6Hlxsi",
        "outputId": "4c68a787-e277-4ed5-d5da-af6e413109b6"
      },
      "execution_count": 22,
      "outputs": [
        {
          "output_type": "stream",
          "name": "stdout",
          "text": [
            "+--------+--------+---+--------+---------+---+---+----+----------+---------+----------+--------+--------+--------+---------+----------+--------+----------+--------+---------+-------+-------+-------+-------+----------+----------+------------+-------------------+------------+\n",
            "|Datetime|COMED_MW| dt|timezone|city_name|lat|lon|temp|visibility|dew_point|feels_like|temp_min|temp_max|pressure|sea_level|grnd_level|humidity|wind_speed|wind_deg|wind_gust|rain_1h|rain_3h|snow_1h|snow_3h|clouds_all|weather_id|weather_main|weather_description|weather_icon|\n",
            "+--------+--------+---+--------+---------+---+---+----+----------+---------+----------+--------+--------+--------+---------+----------+--------+----------+--------+---------+-------+-------+-------+-------+----------+----------+------------+-------------------+------------+\n",
            "+--------+--------+---+--------+---------+---+---+----+----------+---------+----------+--------+--------+--------+---------+----------+--------+----------+--------+---------+-------+-------+-------+-------+----------+----------+------------+-------------------+------------+\n",
            "\n"
          ]
        }
      ]
    },
    {
      "cell_type": "code",
      "source": [
        "cleaned_df = joined_df\n",
        "cleaned_df.show()"
      ],
      "metadata": {
        "colab": {
          "base_uri": "https://localhost:8080/"
        },
        "id": "c4UmPukPmouS",
        "outputId": "1f360327-f29a-4484-8dc1-4f97477d893b"
      },
      "execution_count": 23,
      "outputs": [
        {
          "output_type": "stream",
          "name": "stdout",
          "text": [
            "+-------------------+--------+----------+--------+---------+---------+----------+-----+----------+---------+----------+--------+--------+--------+---------+----------+--------+----------+--------+---------+-------+-------+-------+-------+----------+----------+------------+-------------------+------------+\n",
            "|           Datetime|COMED_MW|        dt|timezone|city_name|      lat|       lon| temp|visibility|dew_point|feels_like|temp_min|temp_max|pressure|sea_level|grnd_level|humidity|wind_speed|wind_deg|wind_gust|rain_1h|rain_3h|snow_1h|snow_3h|clouds_all|weather_id|weather_main|weather_description|weather_icon|\n",
            "+-------------------+--------+----------+--------+---------+---------+----------+-----+----------+---------+----------+--------+--------+--------+---------+----------+--------+----------+--------+---------+-------+-------+-------+-------+----------+----------+------------+-------------------+------------+\n",
            "|2011-01-01 01:00:00|  9631.0|1293843600|  -21600|  Chicago|41.878114|-87.629798|49.17|     10000|    47.25|     43.59|   44.64|   55.11|    1005|     null|      null|      93|     14.99|     170|    24.16|   null|   null|   null|   null|       100|       804|      Clouds|    overcast clouds|         04n|\n",
            "|2011-01-01 02:00:00|  9273.0|1293847200|  -21600|  Chicago|41.878114|-87.629798| 49.1|     10000|    47.17|     45.21|   44.53|   55.47|    1005|     null|      null|      93|      9.17|     180|     null|    0.2|   null|   null|   null|       100|       500|        Rain|         light rain|         10n|\n",
            "|2011-01-01 03:00:00|  9011.0|1293850800|  -21600|  Chicago|41.878114|-87.629798|47.84|     10000|    44.76|     43.66|   44.26|   54.03|    1006|     null|      null|      89|      9.17|     170|     null|   0.12|   null|   null|   null|       100|       500|        Rain|         light rain|         10n|\n",
            "|2011-01-01 04:00:00|  8741.0|1293854400|  -21600|  Chicago|41.878114|-87.629798|48.09|     10000|    44.11|      42.8|   44.06|   55.11|    1005|     null|      null|      86|     12.75|     170|     null|   null|   null|   null|   null|       100|       500|        Rain|         light rain|         10n|\n",
            "|2011-01-01 05:00:00|  8694.0|1293858000|  -21600|  Chicago|41.878114|-87.629798|48.43|     10000|    43.52|     42.64|   43.72|   56.01|    1006|     null|      null|      83|     14.99|     190|    31.09|   null|   null|   null|   null|       100|       500|        Rain|         light rain|         10n|\n",
            "|2011-01-01 06:00:00|  8711.0|1293861600|  -21600|  Chicago|41.878114|-87.629798|47.86|     10000|    40.33|     40.64|   43.43|   51.39|    1007|     null|      null|      75|      20.8|     280|     null|   0.14|   null|   null|   null|       100|       500|        Rain|         light rain|         10n|\n",
            "|2011-01-01 07:00:00|  8943.0|1293865200|  -21600|  Chicago|41.878114|-87.629798|44.46|     10000|    28.42|     37.26|   42.28|   46.26|    1007|     null|      null|      52|     16.11|     260|    25.28|   0.15|   null|   null|   null|       100|       500|        Rain|         light rain|         10n|\n",
            "|2011-01-01 08:00:00|  9222.0|1293868800|  -21600|  Chicago|41.878114|-87.629798|38.19|     10000|    24.06|     29.89|   37.27|   39.99|    1008|     null|      null|      54|     13.87|     260|     20.8|   null|   null|   null|   null|        75|       803|      Clouds|      broken clouds|         04n|\n",
            "|2011-01-01 09:00:00|  9430.0|1293872400|  -21600|  Chicago|41.878114|-87.629798|33.98|     10000|    22.41|     25.52|   32.88|   38.01|    1009|     null|      null|      59|     11.41|     250|    19.46|   null|   null|   null|   null|       100|       804|      Clouds|    overcast clouds|         04n|\n",
            "|2011-01-01 10:00:00|  9670.0|1293876000|  -21600|  Chicago|41.878114|-87.629798|30.56|     10000|     21.7|     20.17|   29.39|   36.03|    1008|     null|      null|      66|     13.87|     230|    29.97|   null|   null|   null|   null|        75|       803|      Clouds|      broken clouds|         04n|\n",
            "|2011-01-01 11:00:00| 10125.0|1293879600|  -21600|  Chicago|41.878114|-87.629798|29.08|     10000|    21.79|     17.04|   28.58|   33.15|    1009|     null|      null|      71|     17.22|     240|    21.92|   null|   null|   null|   null|        40|       802|      Clouds|   scattered clouds|         03n|\n",
            "|2011-01-01 12:00:00| 10538.0|1293883200|  -21600|  Chicago|41.878114|-87.629798|27.68|     10000|    19.54|     15.64|   26.78|   30.99|    1009|     null|      null|      68|     16.11|     240|    23.04|   null|   null|   null|   null|        40|       802|      Clouds|   scattered clouds|         03n|\n",
            "|2011-01-01 13:00:00| 10782.0|1293886800|  -21600|  Chicago|41.878114|-87.629798|26.92|     10000|    19.71|     14.67|   25.57|   30.09|    1009|     null|      null|      71|     16.11|     240|     null|   null|   null|   null|   null|        75|       803|      Clouds|      broken clouds|         04n|\n",
            "|2011-01-01 14:00:00| 10861.0|1293890400|  -21600|  Chicago|41.878114|-87.629798|26.33|     10000|    16.34|     13.89|   24.87|   28.11|    1010|     null|      null|      62|     16.11|     250|    32.21|   null|   null|   null|   null|        75|       803|      Clouds|      broken clouds|         04d|\n",
            "|2011-01-01 15:00:00| 10784.0|1293894000|  -21600|  Chicago|41.878114|-87.629798|25.18|     10000|    14.22|     12.58|   24.55|   26.13|    1014|     null|      null|      59|     16.11|     240|    25.28|   null|   null|   null|   null|       100|       804|      Clouds|    overcast clouds|         04d|\n",
            "|2011-01-01 16:00:00| 10928.0|1293897600|  -21600|  Chicago|41.878114|-87.629798|24.31|     10000|    11.61|     11.71|   23.85|   24.76|    1013|     null|      null|      54|     23.04|     240|    28.86|   null|   null|   null|   null|       100|       804|      Clouds|    overcast clouds|         04d|\n",
            "|2011-01-01 17:00:00| 11133.0|1293901200|  -21600|  Chicago|41.878114|-87.629798|22.73|     10000|    10.11|     10.13|   21.99|   23.61|    1013|     null|      null|      54|     21.92|     240|    33.33|   null|   null|   null|   null|       100|       804|      Clouds|    overcast clouds|         04d|\n",
            "|2011-01-01 18:00:00| 11924.0|1293904800|  -21600|  Chicago|41.878114|-87.629798|22.01|     10000|     9.05|      9.41|   21.09|   22.86|    1013|     null|      null|      53|      20.8|     240|    33.33|   null|   null|   null|   null|        75|       803|      Clouds|      broken clouds|         04d|\n",
            "|2011-01-01 19:00:00| 12665.0|1293908400|  -21600|  Chicago|41.878114|-87.629798|22.24|     10000|     8.51|      9.64|   21.83|   22.86|    1013|     null|      null|      51|      20.8|     250|    32.21|   null|   null|   null|   null|        40|       802|      Clouds|   scattered clouds|         03d|\n",
            "|2011-01-01 20:00:00| 12701.0|1293912000|  -21600|  Chicago|41.878114|-87.629798|22.68|     10000|     8.13|     10.08|   21.99|   23.54|    1013|     null|      null|      49|     24.16|     240|    33.33|   null|   null|   null|   null|        75|       803|      Clouds|      broken clouds|         04d|\n",
            "+-------------------+--------+----------+--------+---------+---------+----------+-----+----------+---------+----------+--------+--------+--------+---------+----------+--------+----------+--------+---------+-------+-------+-------+-------+----------+----------+------------+-------------------+------------+\n",
            "only showing top 20 rows\n",
            "\n"
          ]
        }
      ]
    },
    {
      "cell_type": "code",
      "source": [
        "#Create user dataframe for energy_consumption table\n",
        "energy_consumption_df = cleaned_df.select([\"Datetime\", \"COMED_MW\"])\n",
        "energy_consumption_df.show()"
      ],
      "metadata": {
        "colab": {
          "base_uri": "https://localhost:8080/"
        },
        "id": "MzIF29OplyFi",
        "outputId": "d9ca0664-b5c1-4b2e-9424-853083130282"
      },
      "execution_count": 52,
      "outputs": [
        {
          "output_type": "stream",
          "name": "stdout",
          "text": [
            "+-------------------+--------+\n",
            "|           Datetime|COMED_MW|\n",
            "+-------------------+--------+\n",
            "|2011-12-31 01:00:00|  9970.0|\n",
            "|2011-12-31 01:00:00|  9970.0|\n",
            "|2011-12-31 02:00:00|  9428.0|\n",
            "|2011-12-31 03:00:00|  9059.0|\n",
            "|2011-12-31 04:00:00|  8817.0|\n",
            "|2011-12-31 04:00:00|  8817.0|\n",
            "|2011-12-31 05:00:00|  8743.0|\n",
            "|2011-12-31 06:00:00|  8735.0|\n",
            "|2011-12-31 07:00:00|  8993.0|\n",
            "|2011-12-31 08:00:00|  9363.0|\n",
            "|2011-12-31 09:00:00|  9545.0|\n",
            "|2011-12-31 10:00:00|  9676.0|\n",
            "|2011-12-31 11:00:00|  9937.0|\n",
            "|2011-12-31 12:00:00| 10139.0|\n",
            "|2011-12-31 13:00:00| 10326.0|\n",
            "|2011-12-31 14:00:00| 10359.0|\n",
            "|2011-12-31 15:00:00| 10293.0|\n",
            "|2011-12-31 16:00:00| 10240.0|\n",
            "|2011-12-31 17:00:00| 10416.0|\n",
            "|2011-12-31 18:00:00| 11225.0|\n",
            "+-------------------+--------+\n",
            "only showing top 20 rows\n",
            "\n"
          ]
        }
      ]
    },
    {
      "cell_type": "code",
      "source": [
        "#Create user dataframe for weather_df\n",
        "weather_df = cleaned_df.select([\"Datetime\", \"temp\",\"visibility\",\"dew_point\", \"feels_like\",\"temp_min\", \"temp_max\", \"pressure\", \"humidity\", \"wind_speed\", \"wind_deg\", \"wind_gust\", \"rain_1h\",\"rain_3h\",\"snow_1h\",\"clouds_all\",\"weather_main\",\"weather_description\"])\n",
        "weather_df.show()"
      ],
      "metadata": {
        "colab": {
          "base_uri": "https://localhost:8080/"
        },
        "id": "usHKPN96lyPc",
        "outputId": "10d0503b-d21d-4ed9-99cb-9c58e21ea40d"
      },
      "execution_count": 57,
      "outputs": [
        {
          "output_type": "stream",
          "name": "stdout",
          "text": [
            "+-------------------+-----+----------+---------+----------+--------+--------+--------+--------+----------+--------+---------+-------+-------+-------+----------+------------+-------------------+\n",
            "|           Datetime| temp|visibility|dew_point|feels_like|temp_min|temp_max|pressure|humidity|wind_speed|wind_deg|wind_gust|rain_1h|rain_3h|snow_1h|clouds_all|weather_main|weather_description|\n",
            "+-------------------+-----+----------+---------+----------+--------+--------+--------+--------+----------+--------+---------+-------+-------+-------+----------+------------+-------------------+\n",
            "|2011-01-01 01:00:00|49.17|     10000|    47.25|     43.59|   44.64|   55.11|    1005|      93|     14.99|     170|    24.16|   null|   null|   null|       100|      Clouds|    overcast clouds|\n",
            "|2011-01-01 02:00:00| 49.1|     10000|    47.17|     45.21|   44.53|   55.47|    1005|      93|      9.17|     180|     null|    0.2|   null|   null|       100|        Rain|         light rain|\n",
            "|2011-01-01 03:00:00|47.84|     10000|    44.76|     43.66|   44.26|   54.03|    1006|      89|      9.17|     170|     null|   0.12|   null|   null|       100|        Rain|         light rain|\n",
            "|2011-01-01 04:00:00|48.09|     10000|    44.11|      42.8|   44.06|   55.11|    1005|      86|     12.75|     170|     null|   null|   null|   null|       100|        Rain|         light rain|\n",
            "|2011-01-01 05:00:00|48.43|     10000|    43.52|     42.64|   43.72|   56.01|    1006|      83|     14.99|     190|    31.09|   null|   null|   null|       100|        Rain|         light rain|\n",
            "|2011-01-01 06:00:00|47.86|     10000|    40.33|     40.64|   43.43|   51.39|    1007|      75|      20.8|     280|     null|   0.14|   null|   null|       100|        Rain|         light rain|\n",
            "|2011-01-01 07:00:00|44.46|     10000|    28.42|     37.26|   42.28|   46.26|    1007|      52|     16.11|     260|    25.28|   0.15|   null|   null|       100|        Rain|         light rain|\n",
            "|2011-01-01 08:00:00|38.19|     10000|    24.06|     29.89|   37.27|   39.99|    1008|      54|     13.87|     260|     20.8|   null|   null|   null|        75|      Clouds|      broken clouds|\n",
            "|2011-01-01 09:00:00|33.98|     10000|    22.41|     25.52|   32.88|   38.01|    1009|      59|     11.41|     250|    19.46|   null|   null|   null|       100|      Clouds|    overcast clouds|\n",
            "|2011-01-01 10:00:00|30.56|     10000|     21.7|     20.17|   29.39|   36.03|    1008|      66|     13.87|     230|    29.97|   null|   null|   null|        75|      Clouds|      broken clouds|\n",
            "|2011-01-01 11:00:00|29.08|     10000|    21.79|     17.04|   28.58|   33.15|    1009|      71|     17.22|     240|    21.92|   null|   null|   null|        40|      Clouds|   scattered clouds|\n",
            "|2011-01-01 12:00:00|27.68|     10000|    19.54|     15.64|   26.78|   30.99|    1009|      68|     16.11|     240|    23.04|   null|   null|   null|        40|      Clouds|   scattered clouds|\n",
            "|2011-01-01 13:00:00|26.92|     10000|    19.71|     14.67|   25.57|   30.09|    1009|      71|     16.11|     240|     null|   null|   null|   null|        75|      Clouds|      broken clouds|\n",
            "|2011-01-01 14:00:00|26.33|     10000|    16.34|     13.89|   24.87|   28.11|    1010|      62|     16.11|     250|    32.21|   null|   null|   null|        75|      Clouds|      broken clouds|\n",
            "|2011-01-01 15:00:00|25.18|     10000|    14.22|     12.58|   24.55|   26.13|    1014|      59|     16.11|     240|    25.28|   null|   null|   null|       100|      Clouds|    overcast clouds|\n",
            "|2011-01-01 16:00:00|24.31|     10000|    11.61|     11.71|   23.85|   24.76|    1013|      54|     23.04|     240|    28.86|   null|   null|   null|       100|      Clouds|    overcast clouds|\n",
            "|2011-01-01 17:00:00|22.73|     10000|    10.11|     10.13|   21.99|   23.61|    1013|      54|     21.92|     240|    33.33|   null|   null|   null|       100|      Clouds|    overcast clouds|\n",
            "|2011-01-01 18:00:00|22.01|     10000|     9.05|      9.41|   21.09|   22.86|    1013|      53|      20.8|     240|    33.33|   null|   null|   null|        75|      Clouds|      broken clouds|\n",
            "|2011-01-01 19:00:00|22.24|     10000|     8.51|      9.64|   21.83|   22.86|    1013|      51|      20.8|     250|    32.21|   null|   null|   null|        40|      Clouds|   scattered clouds|\n",
            "|2011-01-01 20:00:00|22.68|     10000|     8.13|     10.08|   21.99|   23.54|    1013|      49|     24.16|     240|    33.33|   null|   null|   null|        75|      Clouds|      broken clouds|\n",
            "+-------------------+-----+----------+---------+----------+--------+--------+--------+--------+----------+--------+---------+-------+-------+-------+----------+------------+-------------------+\n",
            "only showing top 20 rows\n",
            "\n"
          ]
        }
      ]
    },
    {
      "cell_type": "code",
      "source": [
        "energy_consumption_df.show()"
      ],
      "metadata": {
        "colab": {
          "base_uri": "https://localhost:8080/"
        },
        "id": "JZx3395Ox5hW",
        "outputId": "f8f98815-7793-4223-fdfe-1a31383e359e"
      },
      "execution_count": 56,
      "outputs": [
        {
          "output_type": "stream",
          "name": "stdout",
          "text": [
            "+-------------------+--------+\n",
            "|          date_time|COMED_MW|\n",
            "+-------------------+--------+\n",
            "|2011-12-31 01:00:00|  9970.0|\n",
            "|2011-12-31 01:00:00|  9970.0|\n",
            "|2011-12-31 02:00:00|  9428.0|\n",
            "|2011-12-31 03:00:00|  9059.0|\n",
            "|2011-12-31 04:00:00|  8817.0|\n",
            "|2011-12-31 04:00:00|  8817.0|\n",
            "|2011-12-31 05:00:00|  8743.0|\n",
            "|2011-12-31 06:00:00|  8735.0|\n",
            "|2011-12-31 07:00:00|  8993.0|\n",
            "|2011-12-31 08:00:00|  9363.0|\n",
            "|2011-12-31 09:00:00|  9545.0|\n",
            "|2011-12-31 10:00:00|  9676.0|\n",
            "|2011-12-31 11:00:00|  9937.0|\n",
            "|2011-12-31 12:00:00| 10139.0|\n",
            "|2011-12-31 13:00:00| 10326.0|\n",
            "|2011-12-31 14:00:00| 10359.0|\n",
            "|2011-12-31 15:00:00| 10293.0|\n",
            "|2011-12-31 16:00:00| 10240.0|\n",
            "|2011-12-31 17:00:00| 10416.0|\n",
            "|2011-12-31 18:00:00| 11225.0|\n",
            "+-------------------+--------+\n",
            "only showing top 20 rows\n",
            "\n"
          ]
        }
      ]
    },
    {
      "cell_type": "markdown",
      "source": [
        "# **LOAD**"
      ],
      "metadata": {
        "id": "y-sgKb5pr5dY"
      }
    },
    {
      "cell_type": "code",
      "source": [
        "#Change Datetime column name\n",
        "weather_df = weather_df.withColumnRenamed(\"Datetime\",\"date_time\")"
      ],
      "metadata": {
        "id": "IYdHtJCXuvxm"
      },
      "execution_count": 58,
      "outputs": []
    },
    {
      "cell_type": "code",
      "source": [
        "#Change Datetime column name\n",
        "energy_consumption_df = energy_consumption_df.withColumnRenamed(\"Datetime\",\"date_time\")"
      ],
      "metadata": {
        "id": "FgCSgZiWvAgO"
      },
      "execution_count": 55,
      "outputs": []
    },
    {
      "cell_type": "code",
      "source": [
        "# Store environmental variable\n",
        "from getpass import getpass\n",
        "password = getpass('Enter database password')\n",
        "# Configure settings for RDS\n",
        "mode = \"append\"\n",
        "jdbc_url=\"jdbc:postgresql://energyconsumptiondb.cnnrufx43ak5.us-east-1.rds.amazonaws.com:5432/EnergyConsumption\"\n",
        "config = {\"user\":\"postgres\",\n",
        "          \"password\": password,\n",
        "          \"driver\":\"org.postgresql.Driver\"}"
      ],
      "metadata": {
        "colab": {
          "base_uri": "https://localhost:8080/"
        },
        "id": "LsyQzXdmsGKB",
        "outputId": "8aae6dc6-1bb6-40a0-e9ab-8852d91d1ceb"
      },
      "execution_count": 30,
      "outputs": [
        {
          "name": "stdout",
          "output_type": "stream",
          "text": [
            "Enter database password··········\n"
          ]
        }
      ]
    },
    {
      "cell_type": "code",
      "source": [
        "# Write DataFrame to active_user table in RDS\n",
        "weather_df.write.jdbc(url=jdbc_url, table='weather_table', mode=mode, properties=config)"
      ],
      "metadata": {
        "id": "J05wGIeeseUP"
      },
      "execution_count": 60,
      "outputs": []
    },
    {
      "cell_type": "code",
      "source": [
        "# Write DataFrame to active_user table in RDS\n",
        "energy_consumption_df.write.jdbc(url=jdbc_url, table='energy_table', mode=mode, properties=config)"
      ],
      "metadata": {
        "id": "cc9-KAqAseY8"
      },
      "execution_count": 63,
      "outputs": []
    }
  ],
  "metadata": {
    "colab": {
      "provenance": [],
      "authorship_tag": "ABX9TyPQtaOY6Y+Afyj5YYy2LJbZ",
      "include_colab_link": true
    },
    "kernelspec": {
      "display_name": "Python 3",
      "name": "python3"
    },
    "language_info": {
      "name": "python"
    }
  },
  "nbformat": 4,
  "nbformat_minor": 0
}